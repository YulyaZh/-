{
  "nbformat": 4,
  "nbformat_minor": 0,
  "metadata": {
    "colab": {
      "provenance": [],
      "authorship_tag": "ABX9TyNwcg6f88Fk7H7PsGnNFnw8",
      "include_colab_link": true
    },
    "kernelspec": {
      "name": "python3",
      "display_name": "Python 3"
    },
    "language_info": {
      "name": "python"
    }
  },
  "cells": [
    {
      "cell_type": "markdown",
      "metadata": {
        "id": "view-in-github",
        "colab_type": "text"
      },
      "source": [
        "<a href=\"https://colab.research.google.com/github/YulyaZh/-/blob/main/%D0%98%D1%82%D0%BE%D0%B3%D0%BE%D0%B2%D0%BE%D0%B5_%D0%B7%D0%B0%D0%B4%D0%B0%D0%BD%D0%B8%D0%B5%20%D0%97%D0%BD%D0%B0%D0%BA%D0%BE%D0%BC%D1%81%D1%82%D0%B2%D0%BE%20%D1%81%20%D1%8F%D0%B7%D1%8B%D0%BA%D0%BE%D0%BC%20Python.ipynb\" target=\"_parent\"><img src=\"https://colab.research.google.com/assets/colab-badge.svg\" alt=\"Open In Colab\"/></a>"
      ]
    },
    {
      "cell_type": "code",
      "source": [
        "import pandas as pd \n",
        "import numpy as np \n",
        "import random\n",
        " \n",
        "lst = ['robot'] * 10\n",
        "lst += ['human'] * 10\n",
        "random.shuffle(lst)\n",
        "data = pd.DataFrame({'whoAmI': lst})\n",
        "print(data)\n",
        " \n",
        "#==================================================#\n",
        "data['tmp'] = 1\n",
        "data.set_index([data.index, 'whoAmI'], inplace=True)\n",
        "data = data.unstack(level=-1, fill_value = 0).astype(int)\n",
        "data.columns = data.columns.droplevel()\n",
        "data.columns.name = None\n",
        "print(data)"
      ],
      "metadata": {
        "colab": {
          "base_uri": "https://localhost:8080/"
        },
        "id": "5Ahial_QA90z",
        "outputId": "6e5786b5-b1d3-412a-c651-10321e1ede98"
      },
      "execution_count": null,
      "outputs": [
        {
          "output_type": "stream",
          "name": "stdout",
          "text": [
            "   whoAmI\n",
            "0   robot\n",
            "1   human\n",
            "2   human\n",
            "3   human\n",
            "4   human\n",
            "5   robot\n",
            "6   robot\n",
            "7   robot\n",
            "8   human\n",
            "9   robot\n",
            "10  robot\n",
            "11  human\n",
            "12  human\n",
            "13  robot\n",
            "14  robot\n",
            "15  human\n",
            "16  robot\n",
            "17  robot\n",
            "18  human\n",
            "19  human\n",
            "    human  robot\n",
            "0       0      1\n",
            "1       1      0\n",
            "2       1      0\n",
            "3       1      0\n",
            "4       1      0\n",
            "5       0      1\n",
            "6       0      1\n",
            "7       0      1\n",
            "8       1      0\n",
            "9       0      1\n",
            "10      0      1\n",
            "11      1      0\n",
            "12      1      0\n",
            "13      0      1\n",
            "14      0      1\n",
            "15      1      0\n",
            "16      0      1\n",
            "17      0      1\n",
            "18      1      0\n",
            "19      1      0\n"
          ]
        }
      ]
    }
  ]
}