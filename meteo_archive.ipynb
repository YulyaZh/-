{
  "nbformat": 4,
  "nbformat_minor": 0,
  "metadata": {
    "colab": {
      "provenance": [],
      "authorship_tag": "ABX9TyNbv2CpyLu+oQYHCoqevpKo",
      "include_colab_link": true
    },
    "kernelspec": {
      "name": "python3",
      "display_name": "Python 3"
    },
    "language_info": {
      "name": "python"
    }
  },
  "cells": [
    {
      "cell_type": "markdown",
      "metadata": {
        "id": "view-in-github",
        "colab_type": "text"
      },
      "source": [
        "<a href=\"https://colab.research.google.com/github/YulyaZh/-/blob/main/meteo_archive.ipynb\" target=\"_parent\"><img src=\"https://colab.research.google.com/assets/colab-badge.svg\" alt=\"Open In Colab\"/></a>"
      ]
    },
    {
      "cell_type": "code",
      "execution_count": null,
      "metadata": {
        "id": "l9pIJ9wRq0B6"
      },
      "outputs": [],
      "source": [
        "import pandas as pd\n",
        "import matplotlib.pyplot as plt\n",
        "import matplotlib.dates as mdates\n",
        "from matplotlib.ticker import FormatStrFormatter, LinearLocator, FuncFormatter"
      ]
    },
    {
      "cell_type": "code",
      "source": [
        "df = pd.read_csv(\"meteo_archive_5.csv\", sep=';')\n",
        "df = df[(df['Year'] >= 2003)]"
      ],
      "metadata": {
        "id": "wJ0xWtMosOz7"
      },
      "execution_count": 60,
      "outputs": []
    },
    {
      "cell_type": "code",
      "source": [
        "df.head()\n",
        "len(df)\n",
        "df.info()\n"
      ],
      "metadata": {
        "colab": {
          "base_uri": "https://localhost:8080/"
        },
        "id": "zUTg1XyR58TP",
        "outputId": "ba7e20eb-4756-4ba4-ffb5-163e4fa30081"
      },
      "execution_count": 61,
      "outputs": [
        {
          "output_type": "stream",
          "name": "stdout",
          "text": [
            "<class 'pandas.core.frame.DataFrame'>\n",
            "Int64Index: 8 entries, 0 to 7\n",
            "Data columns (total 14 columns):\n",
            " #   Column  Non-Null Count  Dtype  \n",
            "---  ------  --------------  -----  \n",
            " 0   Year    8 non-null      int64  \n",
            " 1   Jan     8 non-null      float64\n",
            " 2   Feb     8 non-null      float64\n",
            " 3   Mar     8 non-null      float64\n",
            " 4   Apr     8 non-null      float64\n",
            " 5   May     8 non-null      float64\n",
            " 6   Jun     8 non-null      float64\n",
            " 7   Jul     8 non-null      float64\n",
            " 8   Aug     8 non-null      float64\n",
            " 9   Sep     8 non-null      float64\n",
            " 10  Oct     8 non-null      float64\n",
            " 11  Nov     8 non-null      float64\n",
            " 12  Dev     8 non-null      float64\n",
            " 13  Avg     8 non-null      float64\n",
            "dtypes: float64(13), int64(1)\n",
            "memory usage: 960.0 bytes\n"
          ]
        }
      ]
    },
    {
      "cell_type": "code",
      "source": [
        "df.describe()"
      ],
      "metadata": {
        "colab": {
          "base_uri": "https://localhost:8080/",
          "height": 300
        },
        "id": "9W9L6rAl6D5J",
        "outputId": "540735a3-2904-4d13-831b-95c29639cb5a"
      },
      "execution_count": 62,
      "outputs": [
        {
          "output_type": "execute_result",
          "data": {
            "text/plain": [
              "             Year      Jan       Feb       Mar       Apr        May       Jun  \\\n",
              "count     8.00000  8.00000  8.000000  8.000000  8.000000   8.000000   8.00000   \n",
              "mean   2006.50000 -4.16250 -8.137500 -4.862500  6.675000  14.132500  14.68750   \n",
              "std       2.44949  1.71042  0.546646  2.787184  1.260102   1.217313   1.61018   \n",
              "min    2003.00000 -7.30000 -8.900000 -6.500000  4.600000  11.400000  12.80000   \n",
              "25%    2004.75000 -4.25000 -8.255000 -6.325000  6.500000  14.107500  12.87500   \n",
              "50%    2006.50000 -3.35000 -8.125000 -6.150000  7.250000  14.125000  15.30000   \n",
              "75%    2008.25000 -3.17500 -8.107500 -5.175000  7.425000  14.825000  15.67500   \n",
              "max    2010.00000 -3.00000 -7.000000  1.300000  7.600000  15.500000  16.50000   \n",
              "\n",
              "             Jul        Aug        Sep       Oct       Nov      Dev       Avg  \n",
              "count   8.000000   8.000000   8.000000  8.000000  8.000000  8.00000  8.000000  \n",
              "mean   19.612500  17.563750  12.937500  6.125000  1.187500 -3.88750  6.275000  \n",
              "std     0.470372   0.499941   0.808769  0.291548  1.148213  0.89672  0.361544  \n",
              "min    19.000000  16.900000  11.300000  5.600000 -1.600000 -4.60000  5.700000  \n",
              "25%    19.375000  17.107500  12.850000  5.975000  1.350000 -4.42500  6.100000  \n",
              "50%    19.550000  17.650000  13.250000  6.150000  1.550000 -4.25000  6.350000  \n",
              "75%    19.725000  17.825000  13.425000  6.325000  1.725000 -3.80000  6.525000  \n",
              "max    20.600000  18.400000  13.600000  6.500000  1.900000 -2.10000  6.700000  "
            ],
            "text/html": [
              "\n",
              "  <div id=\"df-400308e3-c348-4075-b586-4fbd599bf5b3\" class=\"colab-df-container\">\n",
              "    <div>\n",
              "<style scoped>\n",
              "    .dataframe tbody tr th:only-of-type {\n",
              "        vertical-align: middle;\n",
              "    }\n",
              "\n",
              "    .dataframe tbody tr th {\n",
              "        vertical-align: top;\n",
              "    }\n",
              "\n",
              "    .dataframe thead th {\n",
              "        text-align: right;\n",
              "    }\n",
              "</style>\n",
              "<table border=\"1\" class=\"dataframe\">\n",
              "  <thead>\n",
              "    <tr style=\"text-align: right;\">\n",
              "      <th></th>\n",
              "      <th>Year</th>\n",
              "      <th>Jan</th>\n",
              "      <th>Feb</th>\n",
              "      <th>Mar</th>\n",
              "      <th>Apr</th>\n",
              "      <th>May</th>\n",
              "      <th>Jun</th>\n",
              "      <th>Jul</th>\n",
              "      <th>Aug</th>\n",
              "      <th>Sep</th>\n",
              "      <th>Oct</th>\n",
              "      <th>Nov</th>\n",
              "      <th>Dev</th>\n",
              "      <th>Avg</th>\n",
              "    </tr>\n",
              "  </thead>\n",
              "  <tbody>\n",
              "    <tr>\n",
              "      <th>count</th>\n",
              "      <td>8.00000</td>\n",
              "      <td>8.00000</td>\n",
              "      <td>8.000000</td>\n",
              "      <td>8.000000</td>\n",
              "      <td>8.000000</td>\n",
              "      <td>8.000000</td>\n",
              "      <td>8.00000</td>\n",
              "      <td>8.000000</td>\n",
              "      <td>8.000000</td>\n",
              "      <td>8.000000</td>\n",
              "      <td>8.000000</td>\n",
              "      <td>8.000000</td>\n",
              "      <td>8.00000</td>\n",
              "      <td>8.000000</td>\n",
              "    </tr>\n",
              "    <tr>\n",
              "      <th>mean</th>\n",
              "      <td>2006.50000</td>\n",
              "      <td>-4.16250</td>\n",
              "      <td>-8.137500</td>\n",
              "      <td>-4.862500</td>\n",
              "      <td>6.675000</td>\n",
              "      <td>14.132500</td>\n",
              "      <td>14.68750</td>\n",
              "      <td>19.612500</td>\n",
              "      <td>17.563750</td>\n",
              "      <td>12.937500</td>\n",
              "      <td>6.125000</td>\n",
              "      <td>1.187500</td>\n",
              "      <td>-3.88750</td>\n",
              "      <td>6.275000</td>\n",
              "    </tr>\n",
              "    <tr>\n",
              "      <th>std</th>\n",
              "      <td>2.44949</td>\n",
              "      <td>1.71042</td>\n",
              "      <td>0.546646</td>\n",
              "      <td>2.787184</td>\n",
              "      <td>1.260102</td>\n",
              "      <td>1.217313</td>\n",
              "      <td>1.61018</td>\n",
              "      <td>0.470372</td>\n",
              "      <td>0.499941</td>\n",
              "      <td>0.808769</td>\n",
              "      <td>0.291548</td>\n",
              "      <td>1.148213</td>\n",
              "      <td>0.89672</td>\n",
              "      <td>0.361544</td>\n",
              "    </tr>\n",
              "    <tr>\n",
              "      <th>min</th>\n",
              "      <td>2003.00000</td>\n",
              "      <td>-7.30000</td>\n",
              "      <td>-8.900000</td>\n",
              "      <td>-6.500000</td>\n",
              "      <td>4.600000</td>\n",
              "      <td>11.400000</td>\n",
              "      <td>12.80000</td>\n",
              "      <td>19.000000</td>\n",
              "      <td>16.900000</td>\n",
              "      <td>11.300000</td>\n",
              "      <td>5.600000</td>\n",
              "      <td>-1.600000</td>\n",
              "      <td>-4.60000</td>\n",
              "      <td>5.700000</td>\n",
              "    </tr>\n",
              "    <tr>\n",
              "      <th>25%</th>\n",
              "      <td>2004.75000</td>\n",
              "      <td>-4.25000</td>\n",
              "      <td>-8.255000</td>\n",
              "      <td>-6.325000</td>\n",
              "      <td>6.500000</td>\n",
              "      <td>14.107500</td>\n",
              "      <td>12.87500</td>\n",
              "      <td>19.375000</td>\n",
              "      <td>17.107500</td>\n",
              "      <td>12.850000</td>\n",
              "      <td>5.975000</td>\n",
              "      <td>1.350000</td>\n",
              "      <td>-4.42500</td>\n",
              "      <td>6.100000</td>\n",
              "    </tr>\n",
              "    <tr>\n",
              "      <th>50%</th>\n",
              "      <td>2006.50000</td>\n",
              "      <td>-3.35000</td>\n",
              "      <td>-8.125000</td>\n",
              "      <td>-6.150000</td>\n",
              "      <td>7.250000</td>\n",
              "      <td>14.125000</td>\n",
              "      <td>15.30000</td>\n",
              "      <td>19.550000</td>\n",
              "      <td>17.650000</td>\n",
              "      <td>13.250000</td>\n",
              "      <td>6.150000</td>\n",
              "      <td>1.550000</td>\n",
              "      <td>-4.25000</td>\n",
              "      <td>6.350000</td>\n",
              "    </tr>\n",
              "    <tr>\n",
              "      <th>75%</th>\n",
              "      <td>2008.25000</td>\n",
              "      <td>-3.17500</td>\n",
              "      <td>-8.107500</td>\n",
              "      <td>-5.175000</td>\n",
              "      <td>7.425000</td>\n",
              "      <td>14.825000</td>\n",
              "      <td>15.67500</td>\n",
              "      <td>19.725000</td>\n",
              "      <td>17.825000</td>\n",
              "      <td>13.425000</td>\n",
              "      <td>6.325000</td>\n",
              "      <td>1.725000</td>\n",
              "      <td>-3.80000</td>\n",
              "      <td>6.525000</td>\n",
              "    </tr>\n",
              "    <tr>\n",
              "      <th>max</th>\n",
              "      <td>2010.00000</td>\n",
              "      <td>-3.00000</td>\n",
              "      <td>-7.000000</td>\n",
              "      <td>1.300000</td>\n",
              "      <td>7.600000</td>\n",
              "      <td>15.500000</td>\n",
              "      <td>16.50000</td>\n",
              "      <td>20.600000</td>\n",
              "      <td>18.400000</td>\n",
              "      <td>13.600000</td>\n",
              "      <td>6.500000</td>\n",
              "      <td>1.900000</td>\n",
              "      <td>-2.10000</td>\n",
              "      <td>6.700000</td>\n",
              "    </tr>\n",
              "  </tbody>\n",
              "</table>\n",
              "</div>\n",
              "    <div class=\"colab-df-buttons\">\n",
              "\n",
              "  <div class=\"colab-df-container\">\n",
              "    <button class=\"colab-df-convert\" onclick=\"convertToInteractive('df-400308e3-c348-4075-b586-4fbd599bf5b3')\"\n",
              "            title=\"Convert this dataframe to an interactive table.\"\n",
              "            style=\"display:none;\">\n",
              "\n",
              "  <svg xmlns=\"http://www.w3.org/2000/svg\" height=\"24px\" viewBox=\"0 -960 960 960\">\n",
              "    <path d=\"M120-120v-720h720v720H120Zm60-500h600v-160H180v160Zm220 220h160v-160H400v160Zm0 220h160v-160H400v160ZM180-400h160v-160H180v160Zm440 0h160v-160H620v160ZM180-180h160v-160H180v160Zm440 0h160v-160H620v160Z\"/>\n",
              "  </svg>\n",
              "    </button>\n",
              "\n",
              "  <style>\n",
              "    .colab-df-container {\n",
              "      display:flex;\n",
              "      gap: 12px;\n",
              "    }\n",
              "\n",
              "    .colab-df-convert {\n",
              "      background-color: #E8F0FE;\n",
              "      border: none;\n",
              "      border-radius: 50%;\n",
              "      cursor: pointer;\n",
              "      display: none;\n",
              "      fill: #1967D2;\n",
              "      height: 32px;\n",
              "      padding: 0 0 0 0;\n",
              "      width: 32px;\n",
              "    }\n",
              "\n",
              "    .colab-df-convert:hover {\n",
              "      background-color: #E2EBFA;\n",
              "      box-shadow: 0px 1px 2px rgba(60, 64, 67, 0.3), 0px 1px 3px 1px rgba(60, 64, 67, 0.15);\n",
              "      fill: #174EA6;\n",
              "    }\n",
              "\n",
              "    .colab-df-buttons div {\n",
              "      margin-bottom: 4px;\n",
              "    }\n",
              "\n",
              "    [theme=dark] .colab-df-convert {\n",
              "      background-color: #3B4455;\n",
              "      fill: #D2E3FC;\n",
              "    }\n",
              "\n",
              "    [theme=dark] .colab-df-convert:hover {\n",
              "      background-color: #434B5C;\n",
              "      box-shadow: 0px 1px 3px 1px rgba(0, 0, 0, 0.15);\n",
              "      filter: drop-shadow(0px 1px 2px rgba(0, 0, 0, 0.3));\n",
              "      fill: #FFFFFF;\n",
              "    }\n",
              "  </style>\n",
              "\n",
              "    <script>\n",
              "      const buttonEl =\n",
              "        document.querySelector('#df-400308e3-c348-4075-b586-4fbd599bf5b3 button.colab-df-convert');\n",
              "      buttonEl.style.display =\n",
              "        google.colab.kernel.accessAllowed ? 'block' : 'none';\n",
              "\n",
              "      async function convertToInteractive(key) {\n",
              "        const element = document.querySelector('#df-400308e3-c348-4075-b586-4fbd599bf5b3');\n",
              "        const dataTable =\n",
              "          await google.colab.kernel.invokeFunction('convertToInteractive',\n",
              "                                                    [key], {});\n",
              "        if (!dataTable) return;\n",
              "\n",
              "        const docLinkHtml = 'Like what you see? Visit the ' +\n",
              "          '<a target=\"_blank\" href=https://colab.research.google.com/notebooks/data_table.ipynb>data table notebook</a>'\n",
              "          + ' to learn more about interactive tables.';\n",
              "        element.innerHTML = '';\n",
              "        dataTable['output_type'] = 'display_data';\n",
              "        await google.colab.output.renderOutput(dataTable, element);\n",
              "        const docLink = document.createElement('div');\n",
              "        docLink.innerHTML = docLinkHtml;\n",
              "        element.appendChild(docLink);\n",
              "      }\n",
              "    </script>\n",
              "  </div>\n",
              "\n",
              "\n",
              "<div id=\"df-a13dbb69-d73a-4559-ae73-8a312f1ba0c4\">\n",
              "  <button class=\"colab-df-quickchart\" onclick=\"quickchart('df-a13dbb69-d73a-4559-ae73-8a312f1ba0c4')\"\n",
              "            title=\"Suggest charts\"\n",
              "            style=\"display:none;\">\n",
              "\n",
              "<svg xmlns=\"http://www.w3.org/2000/svg\" height=\"24px\"viewBox=\"0 0 24 24\"\n",
              "     width=\"24px\">\n",
              "    <g>\n",
              "        <path d=\"M19 3H5c-1.1 0-2 .9-2 2v14c0 1.1.9 2 2 2h14c1.1 0 2-.9 2-2V5c0-1.1-.9-2-2-2zM9 17H7v-7h2v7zm4 0h-2V7h2v10zm4 0h-2v-4h2v4z\"/>\n",
              "    </g>\n",
              "</svg>\n",
              "  </button>\n",
              "\n",
              "<style>\n",
              "  .colab-df-quickchart {\n",
              "      --bg-color: #E8F0FE;\n",
              "      --fill-color: #1967D2;\n",
              "      --hover-bg-color: #E2EBFA;\n",
              "      --hover-fill-color: #174EA6;\n",
              "      --disabled-fill-color: #AAA;\n",
              "      --disabled-bg-color: #DDD;\n",
              "  }\n",
              "\n",
              "  [theme=dark] .colab-df-quickchart {\n",
              "      --bg-color: #3B4455;\n",
              "      --fill-color: #D2E3FC;\n",
              "      --hover-bg-color: #434B5C;\n",
              "      --hover-fill-color: #FFFFFF;\n",
              "      --disabled-bg-color: #3B4455;\n",
              "      --disabled-fill-color: #666;\n",
              "  }\n",
              "\n",
              "  .colab-df-quickchart {\n",
              "    background-color: var(--bg-color);\n",
              "    border: none;\n",
              "    border-radius: 50%;\n",
              "    cursor: pointer;\n",
              "    display: none;\n",
              "    fill: var(--fill-color);\n",
              "    height: 32px;\n",
              "    padding: 0;\n",
              "    width: 32px;\n",
              "  }\n",
              "\n",
              "  .colab-df-quickchart:hover {\n",
              "    background-color: var(--hover-bg-color);\n",
              "    box-shadow: 0 1px 2px rgba(60, 64, 67, 0.3), 0 1px 3px 1px rgba(60, 64, 67, 0.15);\n",
              "    fill: var(--button-hover-fill-color);\n",
              "  }\n",
              "\n",
              "  .colab-df-quickchart-complete:disabled,\n",
              "  .colab-df-quickchart-complete:disabled:hover {\n",
              "    background-color: var(--disabled-bg-color);\n",
              "    fill: var(--disabled-fill-color);\n",
              "    box-shadow: none;\n",
              "  }\n",
              "\n",
              "  .colab-df-spinner {\n",
              "    border: 2px solid var(--fill-color);\n",
              "    border-color: transparent;\n",
              "    border-bottom-color: var(--fill-color);\n",
              "    animation:\n",
              "      spin 1s steps(1) infinite;\n",
              "  }\n",
              "\n",
              "  @keyframes spin {\n",
              "    0% {\n",
              "      border-color: transparent;\n",
              "      border-bottom-color: var(--fill-color);\n",
              "      border-left-color: var(--fill-color);\n",
              "    }\n",
              "    20% {\n",
              "      border-color: transparent;\n",
              "      border-left-color: var(--fill-color);\n",
              "      border-top-color: var(--fill-color);\n",
              "    }\n",
              "    30% {\n",
              "      border-color: transparent;\n",
              "      border-left-color: var(--fill-color);\n",
              "      border-top-color: var(--fill-color);\n",
              "      border-right-color: var(--fill-color);\n",
              "    }\n",
              "    40% {\n",
              "      border-color: transparent;\n",
              "      border-right-color: var(--fill-color);\n",
              "      border-top-color: var(--fill-color);\n",
              "    }\n",
              "    60% {\n",
              "      border-color: transparent;\n",
              "      border-right-color: var(--fill-color);\n",
              "    }\n",
              "    80% {\n",
              "      border-color: transparent;\n",
              "      border-right-color: var(--fill-color);\n",
              "      border-bottom-color: var(--fill-color);\n",
              "    }\n",
              "    90% {\n",
              "      border-color: transparent;\n",
              "      border-bottom-color: var(--fill-color);\n",
              "    }\n",
              "  }\n",
              "</style>\n",
              "\n",
              "  <script>\n",
              "    async function quickchart(key) {\n",
              "      const quickchartButtonEl =\n",
              "        document.querySelector('#' + key + ' button');\n",
              "      quickchartButtonEl.disabled = true;  // To prevent multiple clicks.\n",
              "      quickchartButtonEl.classList.add('colab-df-spinner');\n",
              "      try {\n",
              "        const charts = await google.colab.kernel.invokeFunction(\n",
              "            'suggestCharts', [key], {});\n",
              "      } catch (error) {\n",
              "        console.error('Error during call to suggestCharts:', error);\n",
              "      }\n",
              "      quickchartButtonEl.classList.remove('colab-df-spinner');\n",
              "      quickchartButtonEl.classList.add('colab-df-quickchart-complete');\n",
              "    }\n",
              "    (() => {\n",
              "      let quickchartButtonEl =\n",
              "        document.querySelector('#df-a13dbb69-d73a-4559-ae73-8a312f1ba0c4 button');\n",
              "      quickchartButtonEl.style.display =\n",
              "        google.colab.kernel.accessAllowed ? 'block' : 'none';\n",
              "    })();\n",
              "  </script>\n",
              "</div>\n",
              "    </div>\n",
              "  </div>\n"
            ]
          },
          "metadata": {},
          "execution_count": 62
        }
      ]
    },
    {
      "cell_type": "code",
      "source": [
        "df.columns"
      ],
      "metadata": {
        "colab": {
          "base_uri": "https://localhost:8080/"
        },
        "id": "_PY3CwgX6IDB",
        "outputId": "2a20fda3-5a88-4d3b-9b0f-520f0edaca69"
      },
      "execution_count": 63,
      "outputs": [
        {
          "output_type": "execute_result",
          "data": {
            "text/plain": [
              "Index(['Year', 'Jan', 'Feb', 'Mar', 'Apr', 'May', 'Jun', 'Jul', 'Aug', 'Sep',\n",
              "       'Oct', 'Nov', 'Dev', 'Avg'],\n",
              "      dtype='object')"
            ]
          },
          "metadata": {},
          "execution_count": 63
        }
      ]
    },
    {
      "cell_type": "code",
      "source": [
        "plt.rcParams[\"figure.figsize\"] = (8, 5)\n",
        "fig, ax = plt.subplots()"
      ],
      "metadata": {
        "colab": {
          "base_uri": "https://localhost:8080/",
          "height": 451
        },
        "id": "CVSrKh5qEOxj",
        "outputId": "9607219e-59fc-4cda-ab36-f1ccbf69bc8e"
      },
      "execution_count": 72,
      "outputs": [
        {
          "output_type": "display_data",
          "data": {
            "text/plain": [
              "<Figure size 800x500 with 1 Axes>"
            ],
            "image/png": "[encoded data removed]"
          },
          "metadata": {}
        }
      ]
    },
    {
      "cell_type": "code",
      "source": [
        "def neg_tick(x, pos):\n",
        "    return '%.1f' % (-x if x else 0)"
      ],
      "metadata": {
        "id": "FgS1Z86gEfSV"
      },
      "execution_count": 65,
      "outputs": []
    },
    {
      "cell_type": "code",
      "source": [
        "plt.bar(df['Year'].values, -df['Jan'].values)\n",
        "plt.plot(df['Year'].values, -df['Jan'].rolling(window=20, min_periods=1).mean(), 'r-')\n",
        "ax.yaxis.set_major_formatter(FuncFormatter(neg_tick))"
      ],
      "metadata": {
        "colab": {
          "base_uri": "https://localhost:8080/",
          "height": 445
        },
        "id": "K2UPQoqoEgzr",
        "outputId": "b8865490-f29f-43ee-e821-cfd55c569086"
      },
      "execution_count": 68,
      "outputs": [
        {
          "output_type": "display_data",
          "data": {
            "text/plain": [
              "<Figure size 800x500 with 1 Axes>"
            ],
            "image/png": "[encoded data removed]"
          },
          "metadata": {}
        }
      ]
    },
    {
      "cell_type": "code",
      "source": [
        "import matplotlib.pyplot as plt"
      ],
      "metadata": {
        "id": "cxDuqs-JEtpV"
      },
      "execution_count": 74,
      "outputs": []
    },
    {
      "cell_type": "code",
      "source": [
        "df.plot(x=\"Year\", y=[\"Jan\", \"Feb\", \"Mar\", \"Apr\", \"May\", \"Jun\", \"Jul\", \"Aug\", \"Sep\",\"Oct\", \"Nov\", \"Dev\",])"
      ],
      "metadata": {
        "colab": {
          "base_uri": "https://localhost:8080/",
          "height": 482
        },
        "id": "858_-wSEF15T",
        "outputId": "cd3f2301-5701-4513-da70-871f1e7b7d97"
      },
      "execution_count": 77,
      "outputs": [
        {
          "output_type": "execute_result",
          "data": {
            "text/plain": [
              "<Axes: xlabel='Year'>"
            ]
          },
          "metadata": {},
          "execution_count": 77
        },
        {
          "output_type": "display_data",
          "data": {
            "text/plain": [
              "<Figure size 800x500 with 1 Axes>"
            ],
            "image/png": "[encoded data removed]"
          },
          "metadata": {}
        }
      ]
    }
  ]
}