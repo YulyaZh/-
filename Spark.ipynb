{
  "nbformat": 4,
  "nbformat_minor": 0,
  "metadata": {
    "colab": {
      "provenance": [],
      "authorship_tag": "ABX9TyOm+j5AbSndtWgQDBTsAC8n",
      "include_colab_link": true
    },
    "kernelspec": {
      "name": "python3",
      "display_name": "Python 3"
    },
    "language_info": {
      "name": "python"
    }
  },
  "cells": [
    {
      "cell_type": "markdown",
      "metadata": {
        "id": "view-in-github",
        "colab_type": "text"
      },
      "source": [
        "<a href=\"https://colab.research.google.com/github/YulyaZh/-/blob/main/Spark.ipynb\" target=\"_parent\"><img src=\"https://colab.research.google.com/assets/colab-badge.svg\" alt=\"Open In Colab\"/></a>"
      ]
    },
    {
      "cell_type": "markdown",
      "source": [
        "\"\"\"Apache Spark: задача кредитного скоринга\n",
        "# Финальное задание\n",
        "Перепешите код ниже на pyspark.  \n",
        "Для оценки модели используйте [BinaryClassificationEvaluator](https://spark.apache.org/docs/latest/api/python/reference/api/pyspark.ml.evaluation.BinaryClassificationEvaluator.html)\n"
      ],
      "metadata": {
        "id": "-8UD8boFvIqg"
      }
    },
    {
      "cell_type": "code",
      "source": [
        "from matplotlib import pyplot as plt\n",
        "from matplotlib import rcParams\n",
        "import seaborn as sns\n",
        "import numpy as np"
      ],
      "metadata": {
        "id": "M6znjm12vlJi"
      },
      "execution_count": 2,
      "outputs": []
    },
    {
      "cell_type": "code",
      "source": [
        "from pyspark.sql import SparkSession\n",
        "from pyspark.ml import Pipeline\n",
        "from pyspark.ml.feature import OneHotEncoder, StringIndexer, VectorAssembler, MinMaxScaler\n",
        "from pyspark.ml.classification import LogisticRegression\n",
        "from pyspark.ml.evaluation import BinaryClassificationEvaluator\n",
        "from pyspark.mllib.evaluation import BinaryClassificationMetrics as metric"
      ],
      "metadata": {
        "id": "QFdZRfwEvsjM"
      },
      "execution_count": null,
      "outputs": []
    },
    {
      "cell_type": "markdown",
      "source": [
        "# Создаём спарк-сессию"
      ],
      "metadata": {
        "id": "2E2yoz2ovyLm"
      }
    },
    {
      "cell_type": "code",
      "source": [
        "spark = SparkSession.builder \\\n",
        "    .appName('Spark_app') \\\n",
        "    .getOrCreate()"
      ],
      "metadata": {
        "id": "XGiAvdBAvz4e"
      },
      "execution_count": null,
      "outputs": []
    },
    {
      "cell_type": "markdown",
      "source": [
        "#Считываем данные\n",
        "# Ниже для тех, у кого хоть раз были просрчоки больше 60 дней, ставим в таргет 1.\n",
        "# Загружаем данные"
      ],
      "metadata": {
        "id": "fJcHp8k-w0xY"
      }
    },
    {
      "cell_type": "code",
      "source": [
        "data = spark.read.csv(\"application_record.csv\",  encoding = 'utf-8')\n",
        "record = spark.read.csv(\"credit_record.csv\", encoding = 'utf-8')"
      ],
      "metadata": {
        "id": "D-NkrYUzw3gE"
      },
      "execution_count": null,
      "outputs": []
    },
    {
      "cell_type": "markdown",
      "source": [
        "# Добавляем срок кредита к параметрам выдачи кредита"
      ],
      "metadata": {
        "id": "eTJn_Y_iw6gw"
      }
    },
    {
      "cell_type": "code",
      "source": [
        "begin_month = record.groupBy(\"ID\").agg(F.min(F.col(\"MONTHS_BALANCE\")).alias(\"begin_month\")).withColumn(\"begin_month\", F.col(\"begin_month\") * -1)\n",
        "new_data = data.join(begin_month, on=\"ID\", how=\"left\")"
      ],
      "metadata": {
        "id": "VH3Xc41qw8vh"
      },
      "execution_count": null,
      "outputs": []
    },
    {
      "cell_type": "markdown",
      "source": [
        "# # Больше 60, то это просрочка, ставим - Yes, если просрочка есть за срок кредита,то так же ставим Yes"
      ],
      "metadata": {
        "id": "nUcSnB_lxBEZ"
      }
    },
    {
      "cell_type": "code",
      "source": [
        "record = spark.read.csv(\"/content/application_record.csv\", header=True)"
      ],
      "metadata": {
        "id": "tY7OTH3txDpS"
      },
      "execution_count": null,
      "outputs": []
    },
    {
      "cell_type": "markdown",
      "source": [
        "# Создаем новый столбец 'dep_value' и устанавливаем его значение в зависимости от условий"
      ],
      "metadata": {
        "id": "HkyebvASxGbJ"
      }
    },
    {
      "cell_type": "code",
      "source": [
        "record = record.withColumn('dep_value', F.lit(None))\n",
        "record = record.withColumn('dep_value', F.when(record['STATUS'] == '2', 'Yes').otherwise(record['dep_value']))\n",
        "record = record.withColumn('dep_value', F.when(record['STATUS'] == '3', 'Yes').otherwise(record['dep_value']))\n",
        "record = record.withColumn('dep_value', F.when(record['STATUS'] == '4', 'Yes').otherwise(record['dep_value']))\n",
        "record = record.withColumn('dep_value', F.when(record['STATUS'] == '5', 'Yes').otherwise(record['dep_value']))"
      ],
      "metadata": {
        "id": "xrtK59_nxIyK"
      },
      "execution_count": null,
      "outputs": []
    },
    {
      "cell_type": "markdown",
      "source": [
        "# Группируем по 'ID' и считаем количество записей"
      ],
      "metadata": {
        "id": "31uvk2KrxLF0"
      }
    },
    {
      "cell_type": "code",
      "source": [
        "cpunt = record.groupby('ID').agg(F.count('dep_value').alias('dep_count'))"
      ],
      "metadata": {
        "id": "qkqQhH5dxNYL"
      },
      "execution_count": null,
      "outputs": []
    },
    {
      "cell_type": "markdown",
      "source": [
        "# Устанавливаем значения 'dep_value' в зависимости от количества записей"
      ],
      "metadata": {
        "id": "TTOeqVCKxPVb"
      }
    },
    {
      "cell_type": "code",
      "source": [
        "cpunt = cpunt.withColumn('dep_value', F.when(cpunt['dep_count'] > 0, 'Yes').otherwise('No'))"
      ],
      "metadata": {
        "id": "2oiWCU39xRnj"
      },
      "execution_count": null,
      "outputs": []
    },
    {
      "cell_type": "markdown",
      "source": [
        "# Джойним все данные вместе"
      ],
      "metadata": {
        "id": "Xc3wPBC_xT4U"
      }
    },
    {
      "cell_type": "code",
      "source": [
        "new_data = new_data.join(cpunt.select('ID', 'dep_value'), on=\"ID\", how=\"inner\")"
      ],
      "metadata": {
        "id": "H5AomCiHxV-8"
      },
      "execution_count": null,
      "outputs": []
    },
    {
      "cell_type": "markdown",
      "source": [
        "# Заменяем значения 'Yes' и 'No' на 1 и 0 в столбце 'dep_value'"
      ],
      "metadata": {
        "id": "MjDTz-RrxX8c"
      }
    },
    {
      "cell_type": "code",
      "source": [
        "new_data = new_data.withColumn('target', F.when(new_data['dep_value'] == 'Yes', 1).otherwise(F.when(new_data['dep_value'] == 'No', 0)))"
      ],
      "metadata": {
        "id": "bBhVk_Mpxc7l"
      },
      "execution_count": null,
      "outputs": []
    },
    {
      "cell_type": "markdown",
      "source": [
        "# Удаляем столбец 'dep_value'"
      ],
      "metadata": {
        "id": "mHzlqoo8xf32"
      }
    },
    {
      "cell_type": "code",
      "source": [
        "new_data = new_data.drop('dep_value')"
      ],
      "metadata": {
        "id": "qmplWm_2xhsn"
      },
      "execution_count": null,
      "outputs": []
    },
    {
      "cell_type": "markdown",
      "source": [
        "# Выводим первые строки нового датасета с помощью PySpark"
      ],
      "metadata": {
        "id": "xU6T0DHdxjam"
      }
    },
    {
      "cell_type": "code",
      "source": [
        "new_data.show()"
      ],
      "metadata": {
        "id": "YVHsy-IixldY"
      },
      "execution_count": null,
      "outputs": []
    },
    {
      "cell_type": "markdown",
      "source": [
        "# Оставим только часть признаков"
      ],
      "metadata": {
        "id": "FG9nRKPtxns_"
      }
    },
    {
      "cell_type": "code",
      "source": [
        "selected_features = ['AMT_INCOME_TOTAL', 'CODE_GENDER', 'FLAG_OWN_CAR', 'FLAG_OWN_REALTY', 'CNT_CHILDREN']\n",
        "selected_target = ['target']"
      ],
      "metadata": {
        "id": "4dkDFn-cxpiN"
      },
      "execution_count": null,
      "outputs": []
    },
    {
      "cell_type": "markdown",
      "source": [
        "# Выбираем только заданные признаки и целевую переменную"
      ],
      "metadata": {
        "id": "YAHH0lt-xr15"
      }
    },
    {
      "cell_type": "code",
      "source": [
        "dataset = new_data.select(selected_features + selected_target)"
      ],
      "metadata": {
        "id": "cd3Acy2Lxtz2"
      },
      "execution_count": null,
      "outputs": []
    },
    {
      "cell_type": "markdown",
      "source": [
        "# Преобразуем целевую переменную в числовой формат"
      ],
      "metadata": {
        "id": "zlOerLyfxvaR"
      }
    },
    {
      "cell_type": "code",
      "source": [
        "dataset = dataset.withColumn(selected_target[0], dataset[selected_target[0]].cast('double'))"
      ],
      "metadata": {
        "id": "xV9vaxFTxxrZ"
      },
      "execution_count": null,
      "outputs": []
    },
    {
      "cell_type": "markdown",
      "source": [
        "# Преобразуем данные векторный формат для обучения модели"
      ],
      "metadata": {
        "id": "DrgaKFNrxzoZ"
      }
    },
    {
      "cell_type": "code",
      "source": [
        "vector_assembler = VectorAssembler(inputCols=selected_features, outputCol=\"features\")\n",
        "input_data = vector_assembler.transform(dataset)"
      ],
      "metadata": {
        "id": "Kl2X0kmkx1oA"
      },
      "execution_count": null,
      "outputs": []
    },
    {
      "cell_type": "markdown",
      "source": [
        "# Разделим выборку на обучающую и тестовую"
      ],
      "metadata": {
        "id": "Td7RkhoKx5ia"
      }
    },
    {
      "cell_type": "code",
      "source": [
        "(train_data, test_data) = input_data.randomSplit([0.7, 0.3], seed=42)\n"
      ],
      "metadata": {
        "id": "QCayJG9qx7oy"
      },
      "execution_count": null,
      "outputs": []
    },
    {
      "cell_type": "markdown",
      "source": [
        "# Применяем StringIndexer для преобразования категориальных признаков в численные"
      ],
      "metadata": {
        "id": "juzZyt8Hx-IC"
      }
    },
    {
      "cell_type": "code",
      "source": [
        "string_indexer = StringIndexer(inputCol=\"CODE_GENDER\", outputCol=\"CODE_GENDER_INDEX\")\n",
        "model = string_indexer.fit(train_data)\n",
        "indexed_train_data = model.transform(train_data)"
      ],
      "metadata": {
        "id": "C2AZrAIIyAWz"
      },
      "execution_count": null,
      "outputs": []
    },
    {
      "cell_type": "markdown",
      "source": [
        "# Применяем OneHotEncoder для преобразования численных индексов в бинарные признаки"
      ],
      "metadata": {
        "id": "Nmg6TgnHyCdM"
      }
    },
    {
      "cell_type": "code",
      "source": [
        "onehot_encoder = OneHotEncoder(inputCols=[\"CODE_GENDER_INDEX\"], outputCols=[\"CODE_GENDER_ONEHOT\"])\n",
        "onehot_model = onehot_encoder.fit(indexed_train_data)\n",
        "encoded_train_data = onehot_model.transform(indexed_train_data)"
      ],
      "metadata": {
        "id": "OQ6qjNKlyEU7"
      },
      "execution_count": null,
      "outputs": []
    },
    {
      "cell_type": "markdown",
      "source": [
        "# Повторяем преобразования для тестовых данных"
      ],
      "metadata": {
        "id": "L1tSCTjayHNU"
      }
    },
    {
      "cell_type": "code",
      "source": [
        "indexed_test_data = model.transform(test_data)\n",
        "encoded_test_data = onehot_model.transform(indexed_test_data)"
      ],
      "metadata": {
        "id": "SYNUh9VByI5c"
      },
      "execution_count": null,
      "outputs": []
    },
    {
      "cell_type": "markdown",
      "source": [
        "# Собираем численные признаки в один вектор"
      ],
      "metadata": {
        "id": "YTu2ajnzyK2d"
      }
    },
    {
      "cell_type": "code",
      "source": [
        "vector_assembler = VectorAssembler(inputCols=[\"AMT_INCOME_TOTAL\", \"CNT_CHILDREN\"], outputCol=\"numerical_features\")\n",
        "assembled_train_data = vector_assembler.transform(train_data)\n",
        "assembled_test_data = vector_assembler.transform(test_data)"
      ],
      "metadata": {
        "id": "WSD5KJexyPJd"
      },
      "execution_count": null,
      "outputs": []
    },
    {
      "cell_type": "markdown",
      "source": [
        "# Применяем MinMaxScaler для масштабирования численных признаков"
      ],
      "metadata": {
        "id": "TB59hevnyQO2"
      }
    },
    {
      "cell_type": "code",
      "source": [
        "scaler = MinMaxScaler(inputCol=\"numerical_features\", outputCol=\"scaled_features\")\n",
        "scaler_model = scaler.fit(assembled_train_data)\n",
        "scaled_train_data = scaler_model.transform(assembled_train_data)\n",
        "scaled_test_data = scaler_model.transform(assembled_test_data)"
      ],
      "metadata": {
        "id": "bicswbh1yST3"
      },
      "execution_count": null,
      "outputs": []
    },
    {
      "cell_type": "markdown",
      "source": [
        "# Объединяем преобразованные данные"
      ],
      "metadata": {
        "id": "8x_0DrpayUeW"
      }
    },
    {
      "cell_type": "code",
      "source": [
        "X_train = scaled_train_data.join(encoded_train_data, on=\"ID\", how=\"inner\")\n",
        "X_test = scaled_test_data.join(encoded_test_data, on=\"ID\", how=\"inner\")"
      ],
      "metadata": {
        "id": "p71bAWH8yWDX"
      },
      "execution_count": null,
      "outputs": []
    },
    {
      "cell_type": "markdown",
      "source": [
        "\"\"\"#  Модель\"\"\""
      ],
      "metadata": {
        "id": "kRAaGVxqyYRw"
      }
    },
    {
      "cell_type": "markdown",
      "source": [
        "# Создаем экземпляр модели логистической регрессии"
      ],
      "metadata": {
        "id": "LfrWMP0uyaCY"
      }
    },
    {
      "cell_type": "code",
      "source": [
        "lr = LogisticRegression(featuresCol='features', labelCol='target')"
      ],
      "metadata": {
        "id": "AvrTG82hycHw"
      },
      "execution_count": null,
      "outputs": []
    },
    {
      "cell_type": "markdown",
      "source": [
        "# Обучаем модель на обучающем датасете"
      ],
      "metadata": {
        "id": "cjtktbHRyeBw"
      }
    },
    {
      "cell_type": "code",
      "source": [
        "lr_model = lr.fit(X_train)"
      ],
      "metadata": {
        "id": "Znp_dZtqyf0w"
      },
      "execution_count": null,
      "outputs": []
    },
    {
      "cell_type": "markdown",
      "source": [
        "# Вычисляем оценку модели на обучающем и тестовом датасетах"
      ],
      "metadata": {
        "id": "-5Xs24QWyht0"
      }
    },
    {
      "cell_type": "code",
      "source": [
        "evaluator = BinaryClassificationEvaluator(labelCol=\"target\")"
      ],
      "metadata": {
        "id": "5LN1NG1HyjmR"
      },
      "execution_count": null,
      "outputs": []
    },
    {
      "cell_type": "code",
      "source": [
        "train_score = evaluator.evaluate(lr_model.transform(X_train))\n",
        "test_score = evaluator.evaluate(lr_model.transform(X_test))"
      ],
      "metadata": {
        "id": "fKZpQMiBymVp"
      },
      "execution_count": null,
      "outputs": []
    },
    {
      "cell_type": "code",
      "source": [
        "print(f'Оценка модели на обучающем датасете: {train_score}, на тестовом датасете: {test_score}')"
      ],
      "metadata": {
        "id": "aY8t5-WdyojC"
      },
      "execution_count": null,
      "outputs": []
    }
  ]
}