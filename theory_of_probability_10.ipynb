{
  "nbformat": 4,
  "nbformat_minor": 0,
  "metadata": {
    "colab": {
      "provenance": [],
      "authorship_tag": "ABX9TyO/bC3ZLPo1e+2qiene3jnQ",
      "include_colab_link": true
    },
    "kernelspec": {
      "name": "python3",
      "display_name": "Python 3"
    },
    "language_info": {
      "name": "python"
    }
  },
  "cells": [
    {
      "cell_type": "markdown",
      "metadata": {
        "id": "view-in-github",
        "colab_type": "text"
      },
      "source": [
        "<a href=\"https://colab.research.google.com/github/YulyaZh/-/blob/main/theory_of_probability_10.ipynb\" target=\"_parent\"><img src=\"https://colab.research.google.com/assets/colab-badge.svg\" alt=\"Open In Colab\"/></a>"
      ]
    },
    {
      "cell_type": "code",
      "execution_count": 1,
      "metadata": {
        "id": "blgaHrOCx3Gn"
      },
      "outputs": [],
      "source": [
        "import numpy as np"
      ]
    },
    {
      "cell_type": "code",
      "source": [
        "n1 = 8\n",
        "n2 = 9\n",
        "n3 = 11\n",
        "n = n1 + n2 + n3\n",
        "print(n)"
      ],
      "metadata": {
        "colab": {
          "base_uri": "https://localhost:8080/"
        },
        "id": "IJ2VtC7Q4NmM",
        "outputId": "3d745be8-ad78-4274-9976-e390d9b3a457"
      },
      "execution_count": 2,
      "outputs": [
        {
          "output_type": "stream",
          "name": "stdout",
          "text": [
            "28\n"
          ]
        }
      ]
    },
    {
      "cell_type": "code",
      "source": [
        "k = 3\n",
        "y1 = np.array([173, 175, 180, 178, 177, 185, 183, 182], dtype=np.float64)\n",
        "y2 = np.array([177, 179, 180, 188, 177, 172, 171, 184, 180], dtype=np.float64)\n",
        "y3 = np.array([172, 173, 169, 177, 166, 180, 178, 177, 172, 166, 170], dtype=np.float64)\n",
        "y1_mean = np.mean(y1)\n",
        "print(y1_mean)"
      ],
      "metadata": {
        "colab": {
          "base_uri": "https://localhost:8080/"
        },
        "id": "eDuENoKK4TGS",
        "outputId": "1697c5ed-5312-4e2c-f1d2-5e8b9368c6f9"
      },
      "execution_count": 4,
      "outputs": [
        {
          "output_type": "stream",
          "name": "stdout",
          "text": [
            "179.125\n"
          ]
        }
      ]
    },
    {
      "cell_type": "code",
      "source": [
        "y2_mean = np.mean(y2)\n",
        "print(y2_mean)"
      ],
      "metadata": {
        "colab": {
          "base_uri": "https://localhost:8080/"
        },
        "id": "0tH4l3ZB416r",
        "outputId": "9a9a4d61-b9b4-4b7e-b0d6-a0dd21855307"
      },
      "execution_count": 5,
      "outputs": [
        {
          "output_type": "stream",
          "name": "stdout",
          "text": [
            "178.66666666666666\n"
          ]
        }
      ]
    },
    {
      "cell_type": "code",
      "source": [
        "y3_mean = np.mean(y3)\n",
        "print(y3_mean)"
      ],
      "metadata": {
        "colab": {
          "base_uri": "https://localhost:8080/"
        },
        "id": "9Bo2hM5z438q",
        "outputId": "04089c64-333b-4aa9-ff93-35d65478c5e4"
      },
      "execution_count": 6,
      "outputs": [
        {
          "output_type": "stream",
          "name": "stdout",
          "text": [
            "172.72727272727272\n"
          ]
        }
      ]
    },
    {
      "cell_type": "code",
      "source": [
        "y_all = np.concatenate([y1, y2, y3])\n",
        "y_all"
      ],
      "metadata": {
        "colab": {
          "base_uri": "https://localhost:8080/"
        },
        "id": "x2HjHjqd47l7",
        "outputId": "a1625fd4-23b9-41cb-8575-d3db5e8035bf"
      },
      "execution_count": 7,
      "outputs": [
        {
          "output_type": "execute_result",
          "data": {
            "text/plain": [
              "array([173., 175., 180., 178., 177., 185., 183., 182., 177., 179., 180.,\n",
              "       188., 177., 172., 171., 184., 180., 172., 173., 169., 177., 166.,\n",
              "       180., 178., 177., 172., 166., 170.])"
            ]
          },
          "metadata": {},
          "execution_count": 7
        }
      ]
    },
    {
      "cell_type": "code",
      "source": [
        "y_mean = np.mean(y_all)\n",
        "print(y_mean)"
      ],
      "metadata": {
        "colab": {
          "base_uri": "https://localhost:8080/"
        },
        "id": "rEfqpprC5EFb",
        "outputId": "0871097b-0b86-45ff-fb29-f8f51ae33add"
      },
      "execution_count": 8,
      "outputs": [
        {
          "output_type": "stream",
          "name": "stdout",
          "text": [
            "176.46428571428572\n"
          ]
        }
      ]
    },
    {
      "cell_type": "code",
      "source": [
        "s2 = np.sum((y_all - y_mean)**2)\n",
        "s2"
      ],
      "metadata": {
        "colab": {
          "base_uri": "https://localhost:8080/"
        },
        "id": "6bAofVM45JKr",
        "outputId": "77d2463e-74ae-4ade-91c3-17e8afcc2e3e"
      },
      "execution_count": 9,
      "outputs": [
        {
          "output_type": "execute_result",
          "data": {
            "text/plain": [
              "830.9642857142854"
            ]
          },
          "metadata": {},
          "execution_count": 9
        }
      ]
    },
    {
      "cell_type": "code",
      "source": [
        "s2_f = ((y1_mean - y_mean)**2) * n1 + ((y2_mean - y_mean)**2) * n2 + ((y3_mean - y_mean)**2) * n3\n",
        "s2_f"
      ],
      "metadata": {
        "colab": {
          "base_uri": "https://localhost:8080/"
        },
        "id": "-A4yU5b55N0q",
        "outputId": "fee0f7d4-d5a9-4b56-d740-cb2c632f0f88"
      },
      "execution_count": 10,
      "outputs": [
        {
          "output_type": "execute_result",
          "data": {
            "text/plain": [
              "253.9074675324678"
            ]
          },
          "metadata": {},
          "execution_count": 10
        }
      ]
    },
    {
      "cell_type": "code",
      "source": [
        "s2_residual = np.sum((y1 - y1_mean)**2) + np.sum((y2 - y2_mean)**2) + np.sum((y3 - y3_mean)**2)\n",
        "s2_residual"
      ],
      "metadata": {
        "colab": {
          "base_uri": "https://localhost:8080/"
        },
        "id": "Gi1Z85u45Q3y",
        "outputId": "49022e3a-0eac-4a81-fe6b-ad812236e7e5"
      },
      "execution_count": 11,
      "outputs": [
        {
          "output_type": "execute_result",
          "data": {
            "text/plain": [
              "577.0568181818182"
            ]
          },
          "metadata": {},
          "execution_count": 11
        }
      ]
    },
    {
      "cell_type": "code",
      "source": [
        "print(s2)\n",
        "print(s2_f + s2_residual)"
      ],
      "metadata": {
        "colab": {
          "base_uri": "https://localhost:8080/"
        },
        "id": "QGAzUN9X5UGT",
        "outputId": "7ba88525-c3c0-4b2c-9444-e5fdf040dd09"
      },
      "execution_count": 12,
      "outputs": [
        {
          "output_type": "stream",
          "name": "stdout",
          "text": [
            "830.9642857142854\n",
            "830.964285714286\n"
          ]
        }
      ]
    },
    {
      "cell_type": "code",
      "source": [
        "sigma2_general = s2 / (n - 1)\n",
        "sigma2_general"
      ],
      "metadata": {
        "colab": {
          "base_uri": "https://localhost:8080/"
        },
        "id": "X7c9VhAh5XOk",
        "outputId": "0e36a00f-3698-404f-cddc-0097a50da175"
      },
      "execution_count": 13,
      "outputs": [
        {
          "output_type": "execute_result",
          "data": {
            "text/plain": [
              "30.776455026455015"
            ]
          },
          "metadata": {},
          "execution_count": 13
        }
      ]
    },
    {
      "cell_type": "code",
      "source": [
        "sigma2_f = s2_f / (k - 1)\n",
        "sigma2_f"
      ],
      "metadata": {
        "colab": {
          "base_uri": "https://localhost:8080/"
        },
        "id": "pK2mMEUS5aTx",
        "outputId": "f50b1a07-c53f-480d-cd8f-db02e3f82a80"
      },
      "execution_count": 14,
      "outputs": [
        {
          "output_type": "execute_result",
          "data": {
            "text/plain": [
              "126.9537337662339"
            ]
          },
          "metadata": {},
          "execution_count": 14
        }
      ]
    },
    {
      "cell_type": "code",
      "source": [
        "sigma2_residual = s2_residual / (n - k)\n",
        "sigma2_residual"
      ],
      "metadata": {
        "colab": {
          "base_uri": "https://localhost:8080/"
        },
        "id": "DGHW62ca5dYK",
        "outputId": "8dfcbeda-905a-4e1c-a747-685b31fee9dd"
      },
      "execution_count": 15,
      "outputs": [
        {
          "output_type": "execute_result",
          "data": {
            "text/plain": [
              "23.08227272727273"
            ]
          },
          "metadata": {},
          "execution_count": 15
        }
      ]
    },
    {
      "cell_type": "code",
      "source": [
        "F_h = sigma2_f / sigma2_residual\n",
        "F_h"
      ],
      "metadata": {
        "colab": {
          "base_uri": "https://localhost:8080/"
        },
        "id": "YEu0OZ_p5e96",
        "outputId": "4f37675f-44e9-49f1-c63f-43d5a3fc5dc3"
      },
      "execution_count": 16,
      "outputs": [
        {
          "output_type": "execute_result",
          "data": {
            "text/plain": [
              "5.500053450812598"
            ]
          },
          "metadata": {},
          "execution_count": 16
        }
      ]
    },
    {
      "cell_type": "markdown",
      "source": [],
      "metadata": {
        "id": "o7gnf2fg8Vci"
      }
    },
    {
      "cell_type": "markdown",
      "source": [
        "Находим значение F_крит в таблице критических точек распределения Фишера-Снедекора для заданного уровня значимости α=0.05 и двух степеней свободы:"
      ],
      "metadata": {
        "id": "V5TXj0pR8Zpc"
      }
    },
    {
      "cell_type": "code",
      "source": [
        "k = 3\n",
        "D_f1 = k-1\n",
        "D_f1"
      ],
      "metadata": {
        "colab": {
          "base_uri": "https://localhost:8080/"
        },
        "id": "u9pV3_ui8xJb",
        "outputId": "d8f45c65-7d04-4e2e-dee0-7491ad5ede70"
      },
      "execution_count": 18,
      "outputs": [
        {
          "output_type": "execute_result",
          "data": {
            "text/plain": [
              "2"
            ]
          },
          "metadata": {},
          "execution_count": 18
        }
      ]
    },
    {
      "cell_type": "code",
      "source": [
        "n = 28\n",
        "k = 3\n",
        "D_f2 = n-k\n",
        "D_f2"
      ],
      "metadata": {
        "colab": {
          "base_uri": "https://localhost:8080/"
        },
        "id": "v9BZi-jh89Tq",
        "outputId": "f7799d08-a6be-486d-c4c6-bffebcbde130"
      },
      "execution_count": 19,
      "outputs": [
        {
          "output_type": "execute_result",
          "data": {
            "text/plain": [
              "25"
            ]
          },
          "metadata": {},
          "execution_count": 19
        }
      ]
    },
    {
      "cell_type": "markdown",
      "source": [
        "Для данных значений F_крит = 3,3852, т.к. F_h > F_крит, отвергнута гипотеза Н0, различие роста в трех группах статистически значимо."
      ],
      "metadata": {
        "id": "6XRMt6nM9bJz"
      }
    },
    {
      "cell_type": "code",
      "source": [],
      "metadata": {
        "id": "JRZHIopv-QhS"
      },
      "execution_count": null,
      "outputs": []
    }
  ]
}