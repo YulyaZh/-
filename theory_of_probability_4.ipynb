{
  "nbformat": 4,
  "nbformat_minor": 0,
  "metadata": {
    "colab": {
      "provenance": [],
      "authorship_tag": "ABX9TyOBI6WEtVV/zpVCZ+XWNk86",
      "include_colab_link": true
    },
    "kernelspec": {
      "name": "python3",
      "display_name": "Python 3"
    },
    "language_info": {
      "name": "python"
    }
  },
  "cells": [
    {
      "cell_type": "markdown",
      "metadata": {
        "id": "view-in-github",
        "colab_type": "text"
      },
      "source": [
        "<a href=\"https://colab.research.google.com/github/YulyaZh/-/blob/main/theory_of_probability_4.ipynb\" target=\"_parent\"><img src=\"https://colab.research.google.com/assets/colab-badge.svg\" alt=\"Open In Colab\"/></a>"
      ]
    },
    {
      "cell_type": "code",
      "source": [
        "import numpy as np\n",
        "import math\n",
        "from scipy.stats import norm"
      ],
      "metadata": {
        "id": "smsmjBx-7AOJ"
      },
      "execution_count": 2,
      "outputs": []
    },
    {
      "cell_type": "code",
      "source": [
        "#1. Случайная непрерывная величина A имеет равномерное распределение на промежутке (200, 800].\n",
        "#Найдите ее среднее значение и дисперсию.\n",
        "\n",
        "#считаем среднее значение\n",
        "mu=(800+200)/2\n",
        "mu"
      ],
      "metadata": {
        "colab": {
          "base_uri": "https://localhost:8080/"
        },
        "id": "ySDAvS1_7FkK",
        "outputId": "c8e1d842-d0db-44ea-df38-0fae5133ec07"
      },
      "execution_count": 3,
      "outputs": [
        {
          "output_type": "execute_result",
          "data": {
            "text/plain": [
              "500.0"
            ]
          },
          "metadata": {},
          "execution_count": 3
        }
      ]
    },
    {
      "cell_type": "code",
      "source": [
        "#считаем дисперсию\n",
        "d=(800-200)**2/12\n",
        "d"
      ],
      "metadata": {
        "colab": {
          "base_uri": "https://localhost:8080/"
        },
        "id": "YT8JtB1G7U9B",
        "outputId": "0c4550e2-516e-4d5f-ff09-53682a1725ef"
      },
      "execution_count": 4,
      "outputs": [
        {
          "output_type": "execute_result",
          "data": {
            "text/plain": [
              "30000.0"
            ]
          },
          "metadata": {},
          "execution_count": 4
        }
      ]
    },
    {
      "cell_type": "code",
      "source": [
        "#2. О случайной непрерывной равномерно распределенной величине B известно, что ее дисперсия равна 0.2.\n",
        "#Можно ли найти правую границу величины B и ее среднее значение зная, что левая граница равна 0.5? Если да, найдите ее.\n",
        "a=0.5-(12*0.2)**0.5\n",
        "a"
      ],
      "metadata": {
        "colab": {
          "base_uri": "https://localhost:8080/"
        },
        "id": "606dq3Ds7ePx",
        "outputId": "42e263e0-ca1b-4ccb-f4b4-14b1ef7aed75"
      },
      "execution_count": 5,
      "outputs": [
        {
          "output_type": "execute_result",
          "data": {
            "text/plain": [
              "-1.0491933384829668"
            ]
          },
          "metadata": {},
          "execution_count": 5
        }
      ]
    },
    {
      "cell_type": "code",
      "source": [
        "#3. Непрерывная случайная величина X распределена нормально и задана плотностью распределения\n",
        "f(x) = (1 / (4 * sqrt(2pi))) (exp(-((x+2)**2) / 32))\n",
        "#Найдите: а). M(X) б). D(X) в). std(X) (среднее квадратичное отклонение)\n",
        "\n",
        "#судя по формуле\n",
        "M(x)=-2 std(x)=4 D(x)=16\n"
      ],
      "metadata": {
        "id": "PN55FNn17nmx"
      },
      "execution_count": null,
      "outputs": []
    },
    {
      "cell_type": "code",
      "source": [
        "#4. Рост взрослого населения города X имеет нормальное распределение. Причем, средний рост равен 174 см, а среднее квадратичное отклонение равно 8 см.\n",
        "#Какова вероятность того, что случайным образом выбранный взрослый человек имеет рост: а). больше 182 см б). больше 190 см в). от 166 см до 190 см\n",
        "#г). от 166 см до 182 см д). от 158 см до 190 см е). не выше 150 см или не ниже 190 см ё). не выше 150 см или не ниже 198 см ж). ниже 166 см.\n",
        "\n",
        "mu=174\n",
        "sigma=8\n",
        "\n",
        "#a) больше 182 см\n",
        "pa=1-norm.cdf(182, mu, sigma)\n",
        "pa\n"
      ],
      "metadata": {
        "colab": {
          "base_uri": "https://localhost:8080/"
        },
        "id": "IYtrtuX_9VDC",
        "outputId": "83bc3eb0-0d99-4489-eb42-90af450ed647"
      },
      "execution_count": 11,
      "outputs": [
        {
          "output_type": "execute_result",
          "data": {
            "text/plain": [
              "0.15865525393145707"
            ]
          },
          "metadata": {},
          "execution_count": 11
        }
      ]
    },
    {
      "cell_type": "code",
      "source": [
        "#б) больше 190 см\n",
        "pb=1-norm.cdf(190, mu, sigma)\n",
        "pb"
      ],
      "metadata": {
        "colab": {
          "base_uri": "https://localhost:8080/"
        },
        "id": "HqFbcNi3-Lln",
        "outputId": "74006513-82d8-4002-a005-305b6735cb69"
      },
      "execution_count": 12,
      "outputs": [
        {
          "output_type": "execute_result",
          "data": {
            "text/plain": [
              "0.02275013194817921"
            ]
          },
          "metadata": {},
          "execution_count": 12
        }
      ]
    },
    {
      "cell_type": "code",
      "source": [
        "#в) от 166 см до 190 см\n",
        "pc=norm.cdf(190, mu, sigma)-norm.cdf(166, mu, sigma)\n",
        "pc"
      ],
      "metadata": {
        "colab": {
          "base_uri": "https://localhost:8080/"
        },
        "id": "CoEm__YE-UgA",
        "outputId": "d054d303-fd2b-44cb-fde1-4861c4bcfd4a"
      },
      "execution_count": 13,
      "outputs": [
        {
          "output_type": "execute_result",
          "data": {
            "text/plain": [
              "0.8185946141203637"
            ]
          },
          "metadata": {},
          "execution_count": 13
        }
      ]
    },
    {
      "cell_type": "code",
      "source": [
        "#г) от 166 см до 182 см\n",
        "pd=norm.cdf(182, mu, sigma)-norm.cdf(166, mu, sigma)\n",
        "pd"
      ],
      "metadata": {
        "colab": {
          "base_uri": "https://localhost:8080/"
        },
        "id": "a0mCUdC6-c9A",
        "outputId": "d848e966-fe53-45fb-97a3-cc457c9a5c1e"
      },
      "execution_count": 14,
      "outputs": [
        {
          "output_type": "execute_result",
          "data": {
            "text/plain": [
              "0.6826894921370859"
            ]
          },
          "metadata": {},
          "execution_count": 14
        }
      ]
    },
    {
      "cell_type": "code",
      "source": [
        "#д) от 158 см до 190 см\n",
        "pe=norm.cdf(190, mu, sigma)-norm.cdf(158, mu, sigma)\n",
        "pe"
      ],
      "metadata": {
        "colab": {
          "base_uri": "https://localhost:8080/"
        },
        "id": "oy_3CG6c-m_I",
        "outputId": "ea502640-6e01-488d-ae39-c6a65a9f70fe"
      },
      "execution_count": 15,
      "outputs": [
        {
          "output_type": "execute_result",
          "data": {
            "text/plain": [
              "0.9544997361036416"
            ]
          },
          "metadata": {},
          "execution_count": 15
        }
      ]
    },
    {
      "cell_type": "code",
      "source": [
        "#е) не выше 150 см или не ниже 190 см\n",
        "pf=norm.cdf(150, mu, sigma)+1-norm.cdf(190, mu, sigma)\n",
        "pf"
      ],
      "metadata": {
        "colab": {
          "base_uri": "https://localhost:8080/"
        },
        "id": "CvOE8PSJ-ypw",
        "outputId": "2e87b93d-5589-47db-dfb6-a9e0b25cd034"
      },
      "execution_count": 16,
      "outputs": [
        {
          "output_type": "execute_result",
          "data": {
            "text/plain": [
              "0.0241000299798092"
            ]
          },
          "metadata": {},
          "execution_count": 16
        }
      ]
    },
    {
      "cell_type": "code",
      "source": [
        "#ё) не выше 150 см или не ниже 198 см\n",
        "pg=norm.cdf(150, mu, sigma)+1-norm.cdf(198, mu, sigma)\n",
        "pg"
      ],
      "metadata": {
        "colab": {
          "base_uri": "https://localhost:8080/"
        },
        "id": "CJ7UvA8d-9jA",
        "outputId": "5b607680-f7d7-405a-c6bf-71ed6201faee"
      },
      "execution_count": 17,
      "outputs": [
        {
          "output_type": "execute_result",
          "data": {
            "text/plain": [
              "0.002699796063260096"
            ]
          },
          "metadata": {},
          "execution_count": 17
        }
      ]
    },
    {
      "cell_type": "code",
      "source": [
        "#ж) ниже 166 см\n",
        "ph=norm.cdf(166, mu, sigma)\n",
        "ph"
      ],
      "metadata": {
        "colab": {
          "base_uri": "https://localhost:8080/"
        },
        "id": "DlRmScOx_HcY",
        "outputId": "e4b0828e-4a38-49d6-c914-831a5f9e9b86"
      },
      "execution_count": 18,
      "outputs": [
        {
          "output_type": "execute_result",
          "data": {
            "text/plain": [
              "0.15865525393145707"
            ]
          },
          "metadata": {},
          "execution_count": 18
        }
      ]
    },
    {
      "cell_type": "code",
      "source": [
        "#5. На сколько сигм (средних квадратичных отклонений) отклоняется рост человека, равный 190 см, от\n",
        "#математического ожидания роста в популяции, в которой M(X) = 178 см и D(X) = 25 кв.см?\n",
        "std=math.sqrt(25)\n",
        "std"
      ],
      "metadata": {
        "colab": {
          "base_uri": "https://localhost:8080/"
        },
        "id": "kqIvW_QJ_O2v",
        "outputId": "9ad5ac6e-87d2-4eed-dc84-0ba6cead83c2"
      },
      "execution_count": 19,
      "outputs": [
        {
          "output_type": "execute_result",
          "data": {
            "text/plain": [
              "5.0"
            ]
          },
          "metadata": {},
          "execution_count": 19
        }
      ]
    },
    {
      "cell_type": "code",
      "source": [
        "# считаем кол-во сигм между 190 и 178\n",
        "sigma=(190-178)/std\n",
        "sigma"
      ],
      "metadata": {
        "colab": {
          "base_uri": "https://localhost:8080/"
        },
        "id": "z1_3FL4C_fuY",
        "outputId": "bb99ceb9-4611-4a52-9ff5-7072fc4d624f"
      },
      "execution_count": 20,
      "outputs": [
        {
          "output_type": "execute_result",
          "data": {
            "text/plain": [
              "2.4"
            ]
          },
          "metadata": {},
          "execution_count": 20
        }
      ]
    }
  ]
}